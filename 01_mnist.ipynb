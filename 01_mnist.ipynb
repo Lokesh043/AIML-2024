{
 
  },
  {
   "cell_type": "markdown",
   "metadata": {},
   "source": [
    "# Image Classification with the MNIST Dataset"
   ]
  },
  {
   "cell_type": "markdown",
   "metadata": {},
   "source": [
    "In this section we will do the \"Hello World\" of deep learning: training a deep learning model to correctly classify hand-written digits."
   ]
  },
  {
   "cell_type": "markdown",
   "metadata": {},
   "source": [
    "## Objectives"
   ]
  },
  {
   "cell_type": "markdown",
   "metadata": {},
   "source": [
    "* Understand how deep learning can solve problems traditional programming methods cannot\n",
    "* Learn about the [MNIST handwritten digits dataset](http://yann.lecun.com/exdb/mnist/)\n",
    "* Use the [Keras API](https://keras.io/) to load the MNIST dataset and prepare it for training\n",
    "* Create a simple neural network to perform image classification\n",
    "* Train the neural network using the prepped MNIST dataset\n",
    "* Observe the performance of the trained neural network"
   ]
  },
  {
   "cell_type": "markdown",
   "metadata": {},
   "source": [
    "## The Problem: Image Classification"
   ]
  },
  {
   "cell_type": "markdown",
   "metadata": {},
   "source": [
    "In traditional programming, the programmer is able to articulate rules and conditions in their code that their program can then use to act in the correct way. This approach continues to work exceptionally well for a huge variety of problems.\n",
    "\n",
    "Image classification, which asks a program to correctly classify an image it has never seen before into its correct class, is near impossible to solve with traditional programming techniques. How could a programmer possibly define the rules and conditions to correctly classify a huge variety of images, especially taking into account images that they have never seen?"
   ]
  },
  {
   "cell_type": "markdown",
   "metadata": {},
   "source": [
    "## The Solution: Deep Learning"
   ]
  },
  {
   "cell_type": "markdown",
   "metadata": {},
   "source": [
    "Deep learning excels at pattern recognition by trial and error. By training a deep neural network with sufficient data, and providing the network with feedback on its performance via training, the network can identify, though a huge amount of iteration, its own set of conditions by which it can act in the correct way."
   ]
  },
  {
   "cell_type": "markdown",
   "metadata": {},
   "source": [
    "## The MNIST Dataset"
   ]
  },
  {
   "cell_type": "markdown",
   "metadata": {},
   "source": [
    "In the history of deep learning, the accurate image classification of the [MNIST dataset](http://yann.lecun.com/exdb/mnist/), a collection of 70,000 grayscale images of handwritten digits from 0 to 9, was a major development. While today the problem is considered trivial, doing image classification with MNIST has become a kind of \"Hello World\" for deep learning."
   ]
  },
  {
   "cell_type": "markdown",
   "metadata": {},
   "source": [
    "Here are 40 of the images included in the MNIST dataset:"
   ]
  },
  {
   "cell_type": "markdown",
   "metadata": {},
   "source": [
    "<img src=\"./images/mnist1.png\" style=\"width: 600px;\">"
   ]
  },
  {
   "cell_type": "markdown",
   "metadata": {},
   "source": [
    "## Training and Validation Data and Labels"
   ]
  },
  {
   "cell_type": "markdown",
   "metadata": {},
   "source": [
    "When working with images for deep learning, we need both the images themselves, usually denoted as `X`, and also, correct [labels](https://developers.google.com/machine-learning/glossary#label) for these images, usually denoted as `Y`. Furthermore, we need `X` and `Y` values both for *training* the model, and then, a separate set of `X` and `Y` values for *validating* the performance of the model after it has been trained. Therefore, we need 4 segments of data for the MNIST dataset:\n",
    "\n",
    "1. `x_train`: Images used for training the neural network\n",
    "2. `y_train`: Correct labels for the `x_train` images, used to evaluate the model's predictions during training\n",
    "3. `x_valid`: Images set aside for validating the performance of the model after it has been trained\n",
    "4. `y_valid`: Correct labels for the `x_valid` images, used to evaluate the model's predictions after it has been trained\n",
    "\n",
    "The process of preparing data for analysis is called [Data Engineering](https://medium.com/@rchang/a-beginners-guide-to-data-engineering-part-i-4227c5c457d7). To learn more about the differences between training data and validation data (as well as test data), check out [this article](https://machinelearningmastery.com/difference-test-validation-datasets/) by Jason Brownlee."
   ]
  },
  {
   "cell_type": "markdown",
   "metadata": {},
   "source": [
    "## Loading the Data Into Memory (with Keras)"
   ]
  },
  {
   "cell_type": "markdown",
   "metadata": {},
   "source": [
    "There are many [deep learning frameworks](https://developer.nvidia.com/deep-learning-frameworks), each with their own merits. In this workshop we will be working with [Tensorflow 2](https://www.tensorflow.org/tutorials/quickstart/beginner), and specifically with the [Keras API](https://keras.io/). Keras has many useful built in functions designed for the computer vision tasks. It is also a legitimate choice for deep learning in a professional setting due to its [readability](https://blog.pragmaticengineer.com/readable-code/) and efficiency, though it is not alone in this regard, and it is worth investigating a variety of frameworks when beginning a deep learning project.\n",
    "\n",
    "One of the many helpful features that Keras provides are modules containing many helper methods for [many common datasets](https://www.tensorflow.org/api_docs/python/tf/keras/datasets), including MNIST.\n",
    "\n",
    "We will begin by loading the Keras dataset module for MNIST:"
   ]
  },
  {
   "cell_type": "code",
   "execution_count": null,
   "metadata": {},
   "outputs": [],
   "source": [
    "#!pip install --upgrade pip"
   ]
  },
  {
   "cell_type": "code",
   "execution_count": null,
   "metadata": {},
   "outputs": [],
   "source": [
    "#!pip install tensorflow"
   ]
  },
  {
   "cell_type": "code",
   "execution_count": 1,
   "metadata": {},
   "outputs": [
    {
     "name": "stderr",
     "output_type": "stream",
     "text": [
      "2023-08-11 11:09:44.407776: I tensorflow/core/platform/cpu_feature_guard.cc:193] This TensorFlow binary is optimized with oneAPI Deep Neural Network Library (oneDNN) to use the following CPU instructions in performance-critical operations:  AVX2 FMA\n",
      "To enable them in other operations, rebuild TensorFlow with the appropriate compiler flags.\n"
     ]
    },
    {
     "data": {
      "text/plain": [
       "<tf.Tensor: shape=(), dtype=float32, numpy=587.83594>"
      ]
     },
     "execution_count": 1,
     "metadata": {},
     "output_type": "execute_result"
    }
   ],
   "source": [
    "import tensorflow as tf \n",
    "\n",
    "tf.reduce_sum(tf.random.normal([1000, 1000]))"
   ]
  },
  {
   "cell_type": "code",
   "execution_count": 2,
   "metadata": {
    "scrolled": true
   },
   "outputs": [],
   "source": [
    "from tensorflow.keras.datasets import mnist"
   ]
  },
  {
   "cell_type": "markdown",
   "metadata": {},
   "source": [
    "With the `mnist` module, we can easily load the MNIST data, already partitioned into images and labels for both training and validation:"
   ]
  },
  {
   "cell_type": "code",
   "execution_count": 3,
   "metadata": {},
   "outputs": [],
   "source": [
    "# the data, split between train and validation sets\n",
    "(x_train, y_train), (x_valid, y_valid) = mnist.load_data()"
   ]
  },
  {
   "cell_type": "markdown",
   "metadata": {},
   "source": [
    "## Exploring the MNIST Data"
   ]
  },
  {
   "cell_type": "code",
   "execution_count": null,
   "metadata": {},
   "outputs": [],
   "source": [
    "(x_train, y_train), (x_valid, y_valid) = "
   ]
  },
  {
   "cell_type": "markdown",
   "metadata": {},
   "source": [
    "We stated above that the MNIST dataset contained 70,000 grayscale images of handwritten digits. By executing the following cells, we can see that Keras has partitioned 60,000 of these images for training, and 10,000 for validation (after training), and also, that each image itself is a 2D array with the dimensions 28x28:"
   ]
  },
  {
   "cell_type": "code",
   "execution_count": 4,
   "metadata": {},
   "outputs": [
    {
     "data": {
      "text/plain": [
       "(60000, 28, 28)"
      ]
     },
     "execution_count": 4,
     "metadata": {},
     "output_type": "execute_result"
    }
   ],
   "source": [
    "x_train.shape"
   ]
  },
  {
   "cell_type": "code",
   "execution_count": 5,
   "metadata": {},
   "outputs": [
    {
     "data": {
      "text/plain": [
       "(10000, 28, 28)"
      ]
     },
     "execution_count": 5,
     "metadata": {},
     "output_type": "execute_result"
    }
   ],
   "source": [
    "x_valid.shape"
   ]
  },
  {
   "cell_type": "markdown",
   "metadata": {},
   "source": [
    "Furthermore, we can see that these 28x28 images are represented as a collection of unsigned 8-bit integer values between 0 and 255, the values corresponding with a pixel's grayscale value where `0` is black, `255` is white, and all other values are in between:"
   ]
  },
  {
   "cell_type": "code",
   "execution_count": 6,
   "metadata": {},
   "outputs": [
    {
     "data": {
      "text/plain": [
       "dtype('uint8')"
      ]
     },
     "execution_count": 6,
     "metadata": {},
     "output_type": "execute_result"
    }
   ],
   "source": [
    "x_train.dtype"
   ]
  },
  {
   "cell_type": "code",
   "execution_count": 7,
   "metadata": {},
   "outputs": [
    {
     "data": {
      "text/plain": [
       "0"
      ]
     },
     "execution_count": 7,
     "metadata": {},
     "output_type": "execute_result"
    }
   ],
   "source": [
    "x_train.min()"
   ]
  },
  {
   "cell_type": "code",
   "execution_count": 8,
   "metadata": {},
   "outputs": [
    {
     "data": {
      "text/plain": [
       "255"
      ]
     },
     "execution_count": 8,
     "metadata": {},
     "output_type": "execute_result"
    }
   ],
   "source": [
    "x_train.max()"
   ]
  },
  {
   "cell_type": "code",
   "execution_count": 9,
   "metadata": {},
   "outputs": [
    {
     "data": {
      "text/plain": [
       "array([[  0,   0,   0,   0,   0,   0,   0,   0,   0,   0,   0,   0,   0,\n",
       "          0,   0,   0,   0,   0,   0,   0,   0,   0,   0,   0,   0,   0,\n",
       "          0,   0],\n",
       "       [  0,   0,   0,   0,   0,   0,   0,   0,   0,   0,   0,   0,   0,\n",
       "          0,   0,   0,   0,   0,   0,   0,   0,   0,   0,   0,   0,   0,\n",
       "          0,   0],\n",
       "       [  0,   0,   0,   0,   0,   0,   0,   0,   0,   0,   0,   0,   0,\n",
       "          0,   0,   0,   0,   0,   0,   0,   0,   0,   0,   0,   0,   0,\n",
       "          0,   0],\n",
       "       [  0,   0,   0,   0,   0,   0,   0,   0,   0,   0,   0,   0,   0,\n",
       "          0,   0,   0,   0,   0,   0,   0,   0,   0,   0,   0,   0,   0,\n",
       "          0,   0],\n",
       "       [  0,   0,   0,   0,   0,   0,   0,   0,   0,   0,   0,   0,   0,\n",
       "          0,   0,   0,   0,   0,   0,   0,   0,   0,   0,   0,   0,   0,\n",
       "          0,   0],\n",
       "       [  0,   0,   0,   0,   0,   0,   0,   0,   0,   0,   0,   0,   3,\n",
       "         18,  18,  18, 126, 136, 175,  26, 166, 255, 247, 127,   0,   0,\n",
       "          0,   0],\n",
       "       [  0,   0,   0,   0,   0,   0,   0,   0,  30,  36,  94, 154, 170,\n",
       "        253, 253, 253, 253, 253, 225, 172, 253, 242, 195,  64,   0,   0,\n",
       "          0,   0],\n",
       "       [  0,   0,   0,   0,   0,   0,   0,  49, 238, 253, 253, 253, 253,\n",
       "        253, 253, 253, 253, 251,  93,  82,  82,  56,  39,   0,   0,   0,\n",
       "          0,   0],\n",
       "       [  0,   0,   0,   0,   0,   0,   0,  18, 219, 253, 253, 253, 253,\n",
       "        253, 198, 182, 247, 241,   0,   0,   0,   0,   0,   0,   0,   0,\n",
       "          0,   0],\n",
       "       [  0,   0,   0,   0,   0,   0,   0,   0,  80, 156, 107, 253, 253,\n",
       "        205,  11,   0,  43, 154,   0,   0,   0,   0,   0,   0,   0,   0,\n",
       "          0,   0],\n",
       "       [  0,   0,   0,   0,   0,   0,   0,   0,   0,  14,   1, 154, 253,\n",
       "         90,   0,   0,   0,   0,   0,   0,   0,   0,   0,   0,   0,   0,\n",
       "          0,   0],\n",
       "       [  0,   0,   0,   0,   0,   0,   0,   0,   0,   0,   0, 139, 253,\n",
       "        190,   2,   0,   0,   0,   0,   0,   0,   0,   0,   0,   0,   0,\n",
       "          0,   0],\n",
       "       [  0,   0,   0,   0,   0,   0,   0,   0,   0,   0,   0,  11, 190,\n",
       "        253,  70,   0,   0,   0,   0,   0,   0,   0,   0,   0,   0,   0,\n",
       "          0,   0],\n",
       "       [  0,   0,   0,   0,   0,   0,   0,   0,   0,   0,   0,   0,  35,\n",
       "        241, 225, 160, 108,   1,   0,   0,   0,   0,   0,   0,   0,   0,\n",
       "          0,   0],\n",
       "       [  0,   0,   0,   0,   0,   0,   0,   0,   0,   0,   0,   0,   0,\n",
       "         81, 240, 253, 253, 119,  25,   0,   0,   0,   0,   0,   0,   0,\n",
       "          0,   0],\n",
       "       [  0,   0,   0,   0,   0,   0,   0,   0,   0,   0,   0,   0,   0,\n",
       "          0,  45, 186, 253, 253, 150,  27,   0,   0,   0,   0,   0,   0,\n",
       "          0,   0],\n",
       "       [  0,   0,   0,   0,   0,   0,   0,   0,   0,   0,   0,   0,   0,\n",
       "          0,   0,  16,  93, 252, 253, 187,   0,   0,   0,   0,   0,   0,\n",
       "          0,   0],\n",
       "       [  0,   0,   0,   0,   0,   0,   0,   0,   0,   0,   0,   0,   0,\n",
       "          0,   0,   0,   0, 249, 253, 249,  64,   0,   0,   0,   0,   0,\n",
       "          0,   0],\n",
       "       [  0,   0,   0,   0,   0,   0,   0,   0,   0,   0,   0,   0,   0,\n",
       "          0,  46, 130, 183, 253, 253, 207,   2,   0,   0,   0,   0,   0,\n",
       "          0,   0],\n",
       "       [  0,   0,   0,   0,   0,   0,   0,   0,   0,   0,   0,   0,  39,\n",
       "        148, 229, 253, 253, 253, 250, 182,   0,   0,   0,   0,   0,   0,\n",
       "          0,   0],\n",
       "       [  0,   0,   0,   0,   0,   0,   0,   0,   0,   0,  24, 114, 221,\n",
       "        253, 253, 253, 253, 201,  78,   0,   0,   0,   0,   0,   0,   0,\n",
       "          0,   0],\n",
       "       [  0,   0,   0,   0,   0,   0,   0,   0,  23,  66, 213, 253, 253,\n",
       "        253, 253, 198,  81,   2,   0,   0,   0,   0,   0,   0,   0,   0,\n",
       "          0,   0],\n",
       "       [  0,   0,   0,   0,   0,   0,  18, 171, 219, 253, 253, 253, 253,\n",
       "        195,  80,   9,   0,   0,   0,   0,   0,   0,   0,   0,   0,   0,\n",
       "          0,   0],\n",
       "       [  0,   0,   0,   0,  55, 172, 226, 253, 253, 253, 253, 244, 133,\n",
       "         11,   0,   0,   0,   0,   0,   0,   0,   0,   0,   0,   0,   0,\n",
       "          0,   0],\n",
       "       [  0,   0,   0,   0, 136, 253, 253, 253, 212, 135, 132,  16,   0,\n",
       "          0,   0,   0,   0,   0,   0,   0,   0,   0,   0,   0,   0,   0,\n",
       "          0,   0],\n",
       "       [  0,   0,   0,   0,   0,   0,   0,   0,   0,   0,   0,   0,   0,\n",
       "          0,   0,   0,   0,   0,   0,   0,   0,   0,   0,   0,   0,   0,\n",
       "          0,   0],\n",
       "       [  0,   0,   0,   0,   0,   0,   0,   0,   0,   0,   0,   0,   0,\n",
       "          0,   0,   0,   0,   0,   0,   0,   0,   0,   0,   0,   0,   0,\n",
       "          0,   0],\n",
       "       [  0,   0,   0,   0,   0,   0,   0,   0,   0,   0,   0,   0,   0,\n",
       "          0,   0,   0,   0,   0,   0,   0,   0,   0,   0,   0,   0,   0,\n",
       "          0,   0]], dtype=uint8)"
      ]
     },
     "execution_count": 9,
     "metadata": {},
     "output_type": "execute_result"
    }
   ],
   "source": [
    "x_train[0]"
   ]
  },
  {
   "cell_type": "markdown",
   "metadata": {},
   "source": [
    "Using [Matplotlib](https://matplotlib.org/), we can render one of these grayscale images in our dataset:"
   ]
  },
  {
   "cell_type": "code",
   "execution_count": 13,
   "metadata": {},
   "outputs": [
    {
     "data": {
      "text/plain": [
       "<matplotlib.image.AxesImage at 0x13164ad60>"
      ]
     },
     "execution_count": 13,
     "metadata": {},
     "output_type": "execute_result"
    },
    {
     "data": {
      "image/png": "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\n",
      "text/plain": [
       "<Figure size 432x288 with 1 Axes>"
      ]
     },
     "metadata": {
      "needs_background": "light"
     },
     "output_type": "display_data"
    }
   ],
   "source": [
    "import matplotlib.pyplot as plt\n",
    "\n",
    "image = x_train[2]\n",
    "plt.imshow(image, cmap='gray')"
   ]
  },
  {
   "cell_type": "markdown",
   "metadata": {},
   "source": [
    "In this way we can now see that this is a 28x28 pixel image of a 5. Or is it a 3? The answer is in the `y_train` data, which contains correct labels for the data. Let's take a look:"
   ]
  },
  {
   "cell_type": "code",
   "execution_count": 14,
   "metadata": {},
   "outputs": [
    {
     "data": {
      "text/plain": [
       "4"
      ]
     },
     "execution_count": 14,
     "metadata": {},
     "output_type": "execute_result"
    }
   ],
   "source": [
    "y_train[2]"
   ]
  },
  {
   "cell_type": "markdown",
   "metadata": {},
   "source": [
    "## Preparing the Data for Training"
   ]
  },
  {
   "cell_type": "markdown",
   "metadata": {},
   "source": [
    "In deep learning, it is common that data needs to be transformed to be in the ideal state for training. For this particular image classification problem, there are 3 tasks we should perform with the data in preparation for training:\n",
    "1. Flatten the image data, to simplify the image input into the model\n",
    "2. Normalize the image data, to make the image input values easier to work with for the model\n",
    "3. Categorize the labels, to make the label values easier to work with for the model"
   ]
  },
  {
   "cell_type": "markdown",
   "metadata": {},
   "source": [
    "### Flattening the Image Data"
   ]
  },
  {
   "cell_type": "markdown",
   "metadata": {},
   "source": [
    "Though it's possible for a deep learning model to accept a 2-dimensional image (in our case 28x28 pixels), we're going to simplify things to start and [reshape](https://www.tensorflow.org/api_docs/python/tf/reshape) each image into a single array of 784 continuous pixels (note: 28x28 = 784). This is also called flattening the image.\n",
    "\n",
    "Here we accomplish this using the helper method `reshape`:"
   ]
  },
  {
   "cell_type": "code",
   "execution_count": 16,
   "metadata": {},
   "outputs": [],
   "source": [
    "x_train = x_train.reshape(60000, 784)\n",
    "x_valid = x_valid.reshape(10000, 784)"
   ]
  },
  {
   "cell_type": "markdown",
   "metadata": {},
   "source": [
    "We can confirm that the image data has been reshaped and is now a collection of 1D arrays containing 784 pixel values each:"
   ]
  },
  {
   "cell_type": "code",
   "execution_count": 17,
   "metadata": {},
   "outputs": [
    {
     "data": {
      "text/plain": [
       "(60000, 784)"
      ]
     },
     "execution_count": 17,
     "metadata": {},
     "output_type": "execute_result"
    }
   ],
   "source": [
    "x_train.shape"
   ]
  },
  {
   "cell_type": "code",
   "execution_count": 18,
   "metadata": {},
   "outputs": [
    {
     "data": {
      "text/plain": [
       "(784,)"
      ]
     },
     "execution_count": 18,
     "metadata": {},
     "output_type": "execute_result"
    }
   ],
   "source": [
    "x_train[0].shape"
   ]
  },
  {
   "cell_type": "code",
   "execution_count": 19,
   "metadata": {},
   "outputs": [
    {
     "data": {
      "text/plain": [
       "(784,)"
      ]
     },
     "execution_count": 19,
     "metadata": {},
     "output_type": "execute_result"
    }
   ],
   "source": [
    "x_valid[0].shape"
   ]
  },
  {
   "cell_type": "markdown",
   "metadata": {},
   "source": [
    "### Normalizing the Image Data"
   ]
  },
  {
   "cell_type": "markdown",
   "metadata": {},
   "source": [
    "Deep learning models are better at dealing with floating point numbers between 0 and 1 (more on this topic later). Converting integer values to floating point values between 0 and 1 is called [normalization](https://developers.google.com/machine-learning/glossary#normalization), and a simple approach we will take here to normalize the data will be to divide all the pixel values (which if you recall are between 0 and 255) by 255:"
   ]
  },
  {
   "cell_type": "markdown",
   "metadata": {},
   "source": [
    "**Code for Normalizing the Data**"
   ]
  },
  {
   "cell_type": "code",
   "execution_count": 20,
   "metadata": {},
   "outputs": [],
   "source": [
    "x_train = x_train / 255\n",
    "x_valid = x_valid / 255 "
   ]
  },
  {
   "cell_type": "markdown",
   "metadata": {},
   "source": [
    "We can now see that the values are all floating point values between `0.0` and `1.0`:"
   ]
  },
  {
   "cell_type": "code",
   "execution_count": 21,
   "metadata": {},
   "outputs": [
    {
     "data": {
      "text/plain": [
       "dtype('float64')"
      ]
     },
     "execution_count": 21,
     "metadata": {},
     "output_type": "execute_result"
    }
   ],
   "source": [
    "x_train.dtype"
   ]
  },
  {
   "cell_type": "code",
   "execution_count": 22,
   "metadata": {},
   "outputs": [
    {
     "data": {
      "text/plain": [
       "0.0"
      ]
     },
     "execution_count": 22,
     "metadata": {},
     "output_type": "execute_result"
    }
   ],
   "source": [
    "x_train.min()"
   ]
  },
  {
   "cell_type": "code",
   "execution_count": 23,
   "metadata": {},
   "outputs": [
    {
     "data": {
      "text/plain": [
       "1.0"
      ]
     },
     "execution_count": 23,
     "metadata": {},
     "output_type": "execute_result"
    }
   ],
   "source": [
    "x_train.max()"
   ]
  },
  {
   "cell_type": "markdown",
   "metadata": {},
   "source": [
    "### Categorical Encoding"
   ]
  },
  {
   "cell_type": "markdown",
   "metadata": {},
   "source": [
    "Consider for a moment, if we were to ask, what is 7 - 2? Stating that the answer was 4 is closer than stating that the answer was 9. However, for this image classification problem, we don't want the neural network to learn this kind of reasoning: we just want it to select the correct category, and understand that if we have an image of the number 5, that guessing 4 is just as bad as guessing 9.\n",
    "\n",
    "As it stands, the labels for the images are integers between 0 and 9. Because these values represent a numerical range, the model might try to draw some conclusions about its performance based on how close to the correct numerical category it guesses.\n",
    "\n",
    "Therefore, we will do something to our data called categorical encoding. This kind of transformation modifies the data so that each value is a collection of all possible categories, with the actual category that this particular value is set as true.\n",
    "\n",
    "As a simple example, consider if we had 3 categories: red, blue, and green. For a given color, 2 of these categories would be false, and the other would be true:"
   ]
  },
  {
   "cell_type": "markdown",
   "metadata": {},
   "source": [
    "|Actual Color| Is Red? | Is Blue? | Is Green?|\n",
    "|------------|---------|----------|----------|\n",
    "|Red|True|False|False|\n",
    "|Green|False|False|True|\n",
    "|Blue|False|True|False|\n",
    "|Green|False|False|True|"
   ]
  },
  {
   "cell_type": "markdown",
   "metadata": {},
   "source": [
    "Rather than use \"True\" or \"False\", we could represent the same using binary, either 0 or 1:"
   ]
  },
  {
   "cell_type": "markdown",
   "metadata": {},
   "source": [
    "|Actual Color| Is Red? | Is Blue? | Is Green?|\n",
    "|------------|---------|----------|----------|\n",
    "|Red|1|0|0|\n",
    "|Green|0|0|1|\n",
    "|Blue|0|1|0|\n",
    "|Green|0|0|1|"
   ]
  },
  {
   "cell_type": "markdown",
   "metadata": {},
   "source": [
    "This is what categorical encoding is, transforming values which are intended to be understood as categorical labels into a representation that makes their categorical nature explicit to the model. Thus, if we were using these values for training, we would convert..."
   ]
  },
  {
   "cell_type": "markdown",
   "metadata": {},
   "source": [
    "```python\n",
    "values = ['red, green, blue, green']\n",
    "```"
   ]
  },
  {
   "cell_type": "markdown",
   "metadata": {},
   "source": [
    "... which a neural network would have a very difficult time making sense of, instead to:"
   ]
  },
  {
   "cell_type": "markdown",
   "metadata": {},
   "source": [
    "```python\n",
    "values = [\n",
    "    [1, 0, 0],\n",
    "    [0, 0, 1],\n",
    "    [0, 1, 0],\n",
    "    [0, 0, 1]\n",
    "]\n",
    "```"
   ]
  },
  {
   "cell_type": "markdown",
   "metadata": {},
   "source": [
    "### Categorically Encoding the Labels"
   ]
  },
  {
   "cell_type": "markdown",
   "metadata": {},
   "source": [
    "Keras provides a utility to [categorically encode values](https://www.tensorflow.org/api_docs/python/tf/keras/utils/to_categorical), and here we use it to perform categorical encoding for both the training and validation labels:"
   ]
  },
  {
   "cell_type": "code",
   "execution_count": 24,
   "metadata": {},
   "outputs": [],
   "source": [
    "import tensorflow.keras as keras\n",
    "num_categories = 10\n",
    "\n",
    "y_train = keras.utils.to_categorical(y_train, num_categories)\n",
    "y_valid = keras.utils.to_categorical(y_valid, num_categories)"
   ]
  },
  {
   "cell_type": "markdown",
   "metadata": {},
   "source": [
    "Here are the first 10 values of the training labels, which you can see have now been categorically encoded:"
   ]
  },
  {
   "cell_type": "code",
   "execution_count": 25,
   "metadata": {},
   "outputs": [
    {
     "data": {
      "text/plain": [
       "dtype('float32')"
      ]
     },
     "execution_count": 25,
     "metadata": {},
     "output_type": "execute_result"
    }
   ],
   "source": [
    "y_train[0:9].dtype"
   ]
  },
  {
   "cell_type": "code",
   "execution_count": 26,
   "metadata": {},
   "outputs": [
    {
     "data": {
      "text/plain": [
       "array([[0., 0., 0., 0., 0., 0., 0., 1., 0., 0.],\n",
       "       [0., 0., 1., 0., 0., 0., 0., 0., 0., 0.],\n",
       "       [0., 1., 0., 0., 0., 0., 0., 0., 0., 0.],\n",
       "       [1., 0., 0., 0., 0., 0., 0., 0., 0., 0.],\n",
       "       [0., 0., 0., 0., 1., 0., 0., 0., 0., 0.],\n",
       "       [0., 1., 0., 0., 0., 0., 0., 0., 0., 0.],\n",
       "       [0., 0., 0., 0., 1., 0., 0., 0., 0., 0.],\n",
       "       [0., 0., 0., 0., 0., 0., 0., 0., 0., 1.],\n",
       "       [0., 0., 0., 0., 0., 1., 0., 0., 0., 0.]], dtype=float32)"
      ]
     },
     "execution_count": 26,
     "metadata": {},
     "output_type": "execute_result"
    }
   ],
   "source": [
    "y_valid[0:9]"
   ]
  },
  {
   "cell_type": "markdown",
   "metadata": {},
   "source": [
    "## Creating the Model"
   ]
  },
  {
   "cell_type": "markdown",
   "metadata": {},
   "source": [
    "With the data prepared for training, it is now time to create the model that we will train with the data. This first basic model will be made up of several *layers* and will be comprised of 3 main parts:\n",
    "\n",
    "1. An input layer, which will receive data in some expected format\n",
    "2. Several [hidden layers](https://developers.google.com/machine-learning/glossary#hidden-layer), each comprised of many *neurons*. Each [neuron](https://developers.google.com/machine-learning/glossary#neuron) will have the ability to affect the network's guess with its *weights*, which are values that will be updated over many iterations as the network gets feedback on its performance and learns\n",
    "3. An output layer, which will depict the network's guess for a given image"
   ]
  },
  {
   "cell_type": "markdown",
   "metadata": {},
   "source": [
    "### Instantiating the Model"
   ]
  },
  {
   "cell_type": "markdown",
   "metadata": {},
   "source": [
    "To begin, we will use Keras's [Sequential](https://www.tensorflow.org/api_docs/python/tf/keras/Sequential) model class to instantiate an instance of a model that will have a series of layers that data will pass through in sequence:"
   ]
  },
  {
   "cell_type": "code",
   "execution_count": 27,
   "metadata": {},
   "outputs": [],
   "source": [
    "from tensorflow.keras.models import Sequential\n",
    "\n",
    "model = Sequential()"
   ]
  },
  {
   "cell_type": "markdown",
   "metadata": {},
   "source": [
    "### Creating the Input Layer"
   ]
  },
  {
   "cell_type": "markdown",
   "metadata": {},
   "source": [
    "Next, we will add the input layer. This layer will be *densely connected*, meaning that each neuron in it, and its weights, will affect every neuron in the next layer. To do this with Keras, we use Keras's [Dense](https://www.tensorflow.org/api_docs/python/tf/keras/layers/Dense) layer class."
   ]
  },
  {
   "cell_type": "code",
   "execution_count": 28,
   "metadata": {},
   "outputs": [],
   "source": [
    "from tensorflow.keras.layers import Dense"
   ]
  },
  {
   "cell_type": "markdown",
   "metadata": {},
   "source": [
    "The `units` argument specifies the number of neurons in the layer. We are going to use `512` which we have chosen from experimentation. Choosing the correct number of neurons is what puts the \"science\" in \"data science\" as it is a matter of capturing the statistical complexity of the dataset. Try playing around with this value later to see how it affects training and to start developing a sense for what this number means.\n",
    "\n",
    "We will learn more about activation functions later, but for now, we will use the `relu` activation function, which in short, will help our network to learn how to make more sophisticated guesses about data than if it were required to make guesses based on some strictly linear function.\n",
    "\n",
    "The `input_shape` value specifies the shape of the incoming data which in our situation is a 1D array of 784 values:"
   ]
  },
  {
   "cell_type": "code",
   "execution_count": 29,
   "metadata": {},
   "outputs": [],
   "source": [
    "model.add(Dense(units=512, activation='relu', input_shape=(784,)))"
   ]
  },
  {
   "cell_type": "markdown",
   "metadata": {},
   "source": [
    "### Creating the Hidden Layer"
   ]
  },
  {
   "cell_type": "markdown",
   "metadata": {},
   "source": [
    "Now we will add an additional densely connected layer. Again, much more will be said about these later, but for now know that these layers give the network more parameters to contribute towards its guesses, and therefore, more subtle opportunities for accurate learning:"
   ]
  },
  {
   "cell_type": "code",
   "execution_count": 30,
   "metadata": {},
   "outputs": [],
   "source": [
    "model.add(Dense(units = 512, activation='relu'))"
   ]
  },
  {
   "cell_type": "markdown",
   "metadata": {},
   "source": [
    "### Creating the Output Layer"
   ]
  },
  {
   "cell_type": "markdown",
   "metadata": {},
   "source": [
    "Finally, we will add an output layer. This layer uses the activation function `softmax` which will result in each of the layer's values being a probability between 0 and 1 and will result in all the outputs of the layer adding to 1. In this case, since the network is to make a guess about a single image belonging to 1 of 10 possible categories, there will be 10 outputs. Each output gives the model's guess (a probability) that the image belongs to that specific class:"
   ]
  },
  {
   "cell_type": "code",
   "execution_count": 31,
   "metadata": {},
   "outputs": [],
   "source": [
    "model.add(Dense(units = 10, activation='softmax'))"
   ]
  },
  {
   "cell_type": "markdown",
   "metadata": {},
   "source": [
    "### Summarizing the Model"
   ]
  },
  {
   "cell_type": "markdown",
   "metadata": {},
   "source": [
    "Keras provides the model instance method [summary](https://www.tensorflow.org/api_docs/python/tf/summary) which will print a readable summary of a model:"
   ]
  },
  {
   "cell_type": "code",
   "execution_count": 32,
   "metadata": {},
   "outputs": [
    {
     "name": "stdout",
     "output_type": "stream",
     "text": [
      "Model: \"sequential\"\n",
      "_________________________________________________________________\n",
      " Layer (type)                Output Shape              Param #   \n",
      "=================================================================\n",
      " dense (Dense)               (None, 512)               401920    \n",
      "                                                                 \n",
      " dense_1 (Dense)             (None, 512)               262656    \n",
      "                                                                 \n",
      " dense_2 (Dense)             (None, 10)                5130      \n",
      "                                                                 \n",
      "=================================================================\n",
      "Total params: 669,706\n",
      "Trainable params: 669,706\n",
      "Non-trainable params: 0\n",
      "_________________________________________________________________\n"
     ]
    }
   ],
   "source": [
    "model.summary()"
   ]
  },
  {
   "cell_type": "markdown",
   "metadata": {},
   "source": [
    "Note the number of trainable parameters. Each of these can be adjusted during training and will contribute towards the trained model's guesses."
   ]
  },
  {
   "cell_type": "markdown",
   "metadata": {},
   "source": [
    "### Compiling the Model"
   ]
  },
  {
   "cell_type": "markdown",
   "metadata": {},
   "source": [
    "Again, more details are to follow, but the final step we need to do before we can actually train our model with data is to [compile](https://www.tensorflow.org/api_docs/python/tf/keras/Sequential#compile) it. Here we specify a [loss function](https://developers.google.com/machine-learning/glossary#loss) which will be used for the model to understand how well it is performing during training. We also specify that we would like to track `accuracy` while the model trains:"
   ]
  },
  {
   "cell_type": "code",
   "execution_count": 33,
   "metadata": {},
   "outputs": [],
   "source": [
    "model.compile(optimizer='adam',loss='categorical_crossentropy', metrics=['accuracy'])"
   ]
  },
  {
   "cell_type": "markdown",
   "metadata": {},
   "source": [
    "## Training the Model"
   ]
  },
  {
   "cell_type": "markdown",
   "metadata": {},
   "source": [
    "Now that we have prepared training and validation data, and a model, it's time to train our model with our training data, and verify it with its validation data.\n",
    "\n",
    "\"Training a model with data\" is often also called \"fitting a model to data.\" Put this latter way, it highlights that the shape of the model changes over time to more accurately understand the data that it is being given.\n",
    "\n",
    "When fitting (training) a model with Keras, we use the model's [fit](https://www.tensorflow.org/api_docs/python/tf/keras/Model#fit) method. It expects the following arguments:\n",
    "\n",
    "* The training data\n",
    "* The labels for the training data\n",
    "* The number of times it should train on the entire training dataset (called an *epoch*)\n",
    "* The validation or test data, and its labels\n",
    "\n",
    "Run the cell below to train the model. We will discuss its output after the training completes:"
   ]
  },
  {
   "cell_type": "code",
   "execution_count": 39,
   "metadata": {},
   "outputs": [
    {
     "name": "stdout",
     "output_type": "stream",
     "text": [
      "Epoch 1/5\n",
      "1875/1875 [==============================] - 12s 6ms/step - loss: 0.0280 - accuracy: 0.9911 - val_loss: 0.0870 - val_accuracy: 0.9795\n",
      "Epoch 2/5\n",
      "1875/1875 [==============================] - 12s 6ms/step - loss: 0.0238 - accuracy: 0.9921 - val_loss: 0.1142 - val_accuracy: 0.9775\n",
      "Epoch 3/5\n",
      "1875/1875 [==============================] - 13s 7ms/step - loss: 0.0219 - accuracy: 0.9932 - val_loss: 0.0976 - val_accuracy: 0.9794\n",
      "Epoch 4/5\n",
      "1875/1875 [==============================] - 13s 7ms/step - loss: 0.0217 - accuracy: 0.9935 - val_loss: 0.1006 - val_accuracy: 0.9804\n",
      "Epoch 5/5\n",
      "1875/1875 [==============================] - 13s 7ms/step - loss: 0.0191 - accuracy: 0.9944 - val_loss: 0.1004 - val_accuracy: 0.9809\n"
     ]
    }
   ],
   "source": [
    "history = model.fit(x_train, y_train, epochs=5, verbose=1, validation_data=(x_valid, y_valid))"
   ]
  },
  {
   "cell_type": "code",
   "execution_count": 40,
   "metadata": {},
   "outputs": [
    {
     "name": "stdout",
     "output_type": "stream",
     "text": [
      "dict_keys(['loss', 'accuracy', 'val_loss', 'val_accuracy'])\n"
     ]
    },
    {
     "data": {
      "image/png": "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\n",
      "text/plain": [
       "<Figure size 432x288 with 1 Axes>"
      ]
     },
     "metadata": {
      "needs_background": "light"
     },
     "output_type": "display_data"
    },
    {
     "data": {
      "image/png": "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\n",
      "text/plain": [
       "<Figure size 432x288 with 1 Axes>"
      ]
     },
     "metadata": {
      "needs_background": "light"
     },
     "output_type": "display_data"
    }
   ],
   "source": [
    "# list all data in history\n",
    "print(history.history.keys())\n",
    "\n",
    "\n",
    "# summarize history for accuracy\n",
    "plt.plot(history.history['accuracy'])\n",
    "plt.plot(history.history['val_accuracy'])\n",
    "plt.title('model accuracy')\n",
    "plt.ylabel('accuracy')\n",
    "plt.xlabel('epoch')\n",
    "plt.legend(['train', 'test'], loc='upper left')\n",
    "plt.show()\n",
    "\n",
    "# summarize history for loss\n",
    "plt.plot(history.history['loss'])\n",
    "plt.plot(history.history['val_loss'])\n",
    "plt.title('model loss')\n",
    "plt.ylabel('loss')\n",
    "plt.xlabel('epoch')\n",
    "plt.legend(['train', 'test'], loc='upper left')\n",
    "plt.show()"
   ]
  },
  {
   "cell_type": "markdown",
   "metadata": {},
   "source": [
    "### Observing Accuracy"
   ]
  },
  {
   "cell_type": "markdown",
   "metadata": {},
   "source": [
    "For each of the 5 epochs, notice the `accuracy` and `val_accuracy` scores. `accuracy` states how well the model did for the epoch on all the training data. `val_accuracy` states how well the model did on the validation data, which if you recall, was not used at all for training the model."
   ]
  },
  {
   "cell_type": "markdown",
   "metadata": {},
   "source": [
    "The model did quite well! The accuracy quickly reached close to 100%, as did the validation accuracy. We now have a model that can be used to accurately detect and classify hand-written images.\n",
    "\n",
    "The next step would be to use this model to classify new not-yet-seen handwritten images. This is called [inference](https://blogs.nvidia.com/blog/2016/08/22/difference-deep-learning-training-inference-ai/). We'll explore the process of inference in a later exercise. "
   ]
  },
  {
   "cell_type": "markdown",
   "metadata": {},
   "source": [
    "## Summary"
   ]
  },
  {
   "cell_type": "markdown",
   "metadata": {},
   "source": [
    "It's worth taking a moment to appreciate what we've done here. Historically, the expert systems that were built to do this kind of task were extremely complicated, and people spent their careers building them (check out the references on the [official MNIST page](http://yann.lecun.com/exdb/mnist/) and the years milestones were reached).\n",
    "\n",
    "MNIST is not only useful for its historical influence on Computer Vision, but it's also a great [benchmark](http://www.cs.toronto.edu/~serailhydra/publications/tbd-iiswc18.pdf) and debugging tool. Having trouble getting a fancy new machine learning architecture working? Check it against MNIST. If it can't learn on this dataset, chances are it won't learn on more complicated images and datasets."
   ]
  },
  {
   "cell_type": "markdown",
   "metadata": {},
   "source": [
    "## Clear the Memory"
   ]
  },
  {
   "cell_type": "markdown",
   "metadata": {},
   "source": [
    "Before moving on, please execute the following cell to clear up the GPU memory. This is required to move on to the next notebook."
   ]
  },
  {
   "cell_type": "code",
   "execution_count": null,
   "metadata": {},
   "outputs": [],
   "source": [
    "import IPython\n",
    "app = IPython.Application.instance()\n",
    "app.kernel.do_shutdown(True)"
   ]
  },
  {
   "cell_type": "markdown",
   "metadata": {},
   "source": [
    "## Next"
   ]
  },
  {
   "cell_type": "markdown",
   "metadata": {},
   "source": [
    "In this section you learned how to build and train a simple neural network for image classification. In the next section, you will be asked to build your own neural network and perform data preparation to solve a different image classification problem."
   ]
  },
  {
   "cell_type": "markdown",
   "metadata": {},
   "source": [
    "## ☆ Bonus Exercise ☆\n",
    "\n",
    "Have time to spare? In the next section, we will talk about how we arrived at some of the numbers above, but we can try imagining what it was like to be a researcher developing the techniques commonly used today.\n",
    "\n",
    "Ultimately, each neuron is trying to fit a line to some data. Below, we have some datapoints and a randomly drawn line using the equation [y = mx + b](https://www.mathsisfun.com/equation_of_line.html).\n",
    "\n",
    "Try changing the `m` and the `b` in order to find the lowest possible loss. How did you find the best line? Can you make a program to follow your strategy?"
   ]
  },
  {
   "cell_type": "code",
   "execution_count": null,
   "metadata": {},
   "outputs": [],
   "source": [
    "import numpy as np\n",
    "from numpy.polynomial.polynomial import polyfit\n",
    "import matplotlib.pyplot as plt\n",
    "\n",
    "m = 1 # -2 to start, change me please\n",
    "b = 32  # 40 to start, change me please\n",
    "\n",
    "# Sample data\n",
    "x = np.array([ 0,  1,  2,  3,  4,  5,  6,  7,  8,  9])\n",
    "y = np.array([10, 20, 25, 30, 40, 45, 40, 50, 60, 55])\n",
    "y_hat = x * m + b\n",
    "\n",
    "plt.plot(x, y, '.')\n",
    "plt.plot(x, y_hat, '-')\n",
    "plt.show()\n",
    "\n",
    "print(\"Loss:\", np.sum((y - y_hat)**2)/len(x))"
   ]
  },
  {
   "cell_type": "markdown",
   "metadata": {},
   "source": [
    "Have an idea? Excellent! Please shut down the kernel before moving on."
   ]
  },
  {
   "cell_type": "code",
   "execution_count": null,
   "metadata": {},
   "outputs": [],
   "source": [
    "import IPython\n",
    "app = IPython.Application.instance()\n",
    "app.kernel.do_shutdown(True)"
   ]
  },
  {
   "cell_type": "markdown",
   "metadata": {},
   "source": [
    "<center><a href=\"https://www.nvidia.com/dli\"> <img src=\"images/DLI_Header.png\" alt=\"Header\" style=\"width: 400px;\"/> </a></center>"
   ]
  }
 ],
 "metadata": {
  "kernelspec": {
   "display_name": "Python 3 (ipykernel)",
   "language": "python",
   "name": "python3"
  },
  "language_info": {
   "codemirror_mode": {
    "name": "ipython",
    "version": 3
   },
   "file_extension": ".py",
   "mimetype": "text/x-python",
   "name": "python",
   "nbconvert_exporter": "python",
   "pygments_lexer": "ipython3",
   "version": "3.9.15"
  }
 },
 "nbformat": 4,
 "nbformat_minor": 4
}
